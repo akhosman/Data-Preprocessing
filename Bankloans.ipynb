{
 "cells": [
  {
   "cell_type": "markdown",
   "metadata": {},
   "source": [
    "# Analyzing borrowers’ risk of defaulting\n",
    "\n",
    "We have a data with personal information about people who have a loan in the bank. Based on this information we have to prepare a report for a bank’s loan division. The task is to find out if a customer’s marital status and number of children have an impact on whether they will default on a loan. The bank already has some data on customers’ credit worthiness. Results of the research will be use for building a credit score for a potential customer."
   ]
  },
  {
   "cell_type": "markdown",
   "metadata": {},
   "source": [
    "## Open the data file and have a look at the general information. "
   ]
  },
  {
   "cell_type": "code",
   "execution_count": 1,
   "metadata": {},
   "outputs": [
    {
     "name": "stdout",
     "output_type": "stream",
     "text": [
      "       children  days_employed  dob_years            education  education_id  \\\n",
      "0             1   -8437.673028         42    bachelor's degree             0   \n",
      "1             1   -4024.803754         36  secondary education             1   \n",
      "2             0   -5623.422610         33  Secondary Education             1   \n",
      "3             3   -4124.747207         32  secondary education             1   \n",
      "4             0  340266.072047         53  secondary education             1   \n",
      "...         ...            ...        ...                  ...           ...   \n",
      "21520         1   -4529.316663         43  secondary education             1   \n",
      "21521         0  343937.404131         67  secondary education             1   \n",
      "21522         1   -2113.346888         38  secondary education             1   \n",
      "21523         3   -3112.481705         38  secondary education             1   \n",
      "21524         2   -1984.507589         40  secondary education             1   \n",
      "\n",
      "           family_status  family_status_id gender income_type  debt  \\\n",
      "0                married                 0      F    employee     0   \n",
      "1                married                 0      F    employee     0   \n",
      "2                married                 0      M    employee     0   \n",
      "3                married                 0      M    employee     0   \n",
      "4      civil partnership                 1      F     retiree     0   \n",
      "...                  ...               ...    ...         ...   ...   \n",
      "21520  civil partnership                 1      F    business     0   \n",
      "21521            married                 0      F     retiree     0   \n",
      "21522  civil partnership                 1      M    employee     1   \n",
      "21523            married                 0      M    employee     1   \n",
      "21524            married                 0      F    employee     0   \n",
      "\n",
      "       total_income                  purpose  \n",
      "0         40620.102    purchase of the house  \n",
      "1         17932.802             car purchase  \n",
      "2         23341.752    purchase of the house  \n",
      "3         42820.568  supplementary education  \n",
      "4         25378.572        to have a wedding  \n",
      "...             ...                      ...  \n",
      "21520     35966.698     housing transactions  \n",
      "21521     24959.969        purchase of a car  \n",
      "21522     14347.610                 property  \n",
      "21523     39054.888        buying my own car  \n",
      "21524     13127.587             to buy a car  \n",
      "\n",
      "[21525 rows x 12 columns]\n"
     ]
    }
   ],
   "source": [
    "# read in the data\n",
    "import pandas as pd\n",
    "data = pd.read_csv('/datasets/credit_scoring_eng.csv')\n",
    "print(data)"
   ]
  },
  {
   "cell_type": "code",
   "execution_count": 2,
   "metadata": {},
   "outputs": [
    {
     "data": {
      "text/html": [
       "<div>\n",
       "<style scoped>\n",
       "    .dataframe tbody tr th:only-of-type {\n",
       "        vertical-align: middle;\n",
       "    }\n",
       "\n",
       "    .dataframe tbody tr th {\n",
       "        vertical-align: top;\n",
       "    }\n",
       "\n",
       "    .dataframe thead th {\n",
       "        text-align: right;\n",
       "    }\n",
       "</style>\n",
       "<table border=\"1\" class=\"dataframe\">\n",
       "  <thead>\n",
       "    <tr style=\"text-align: right;\">\n",
       "      <th></th>\n",
       "      <th>children</th>\n",
       "      <th>days_employed</th>\n",
       "      <th>dob_years</th>\n",
       "      <th>education</th>\n",
       "      <th>education_id</th>\n",
       "      <th>family_status</th>\n",
       "      <th>family_status_id</th>\n",
       "      <th>gender</th>\n",
       "      <th>income_type</th>\n",
       "      <th>debt</th>\n",
       "      <th>total_income</th>\n",
       "      <th>purpose</th>\n",
       "    </tr>\n",
       "  </thead>\n",
       "  <tbody>\n",
       "    <tr>\n",
       "      <td>0</td>\n",
       "      <td>1</td>\n",
       "      <td>-8437.673028</td>\n",
       "      <td>42</td>\n",
       "      <td>bachelor's degree</td>\n",
       "      <td>0</td>\n",
       "      <td>married</td>\n",
       "      <td>0</td>\n",
       "      <td>F</td>\n",
       "      <td>employee</td>\n",
       "      <td>0</td>\n",
       "      <td>40620.102</td>\n",
       "      <td>purchase of the house</td>\n",
       "    </tr>\n",
       "    <tr>\n",
       "      <td>1</td>\n",
       "      <td>1</td>\n",
       "      <td>-4024.803754</td>\n",
       "      <td>36</td>\n",
       "      <td>secondary education</td>\n",
       "      <td>1</td>\n",
       "      <td>married</td>\n",
       "      <td>0</td>\n",
       "      <td>F</td>\n",
       "      <td>employee</td>\n",
       "      <td>0</td>\n",
       "      <td>17932.802</td>\n",
       "      <td>car purchase</td>\n",
       "    </tr>\n",
       "    <tr>\n",
       "      <td>2</td>\n",
       "      <td>0</td>\n",
       "      <td>-5623.422610</td>\n",
       "      <td>33</td>\n",
       "      <td>Secondary Education</td>\n",
       "      <td>1</td>\n",
       "      <td>married</td>\n",
       "      <td>0</td>\n",
       "      <td>M</td>\n",
       "      <td>employee</td>\n",
       "      <td>0</td>\n",
       "      <td>23341.752</td>\n",
       "      <td>purchase of the house</td>\n",
       "    </tr>\n",
       "    <tr>\n",
       "      <td>3</td>\n",
       "      <td>3</td>\n",
       "      <td>-4124.747207</td>\n",
       "      <td>32</td>\n",
       "      <td>secondary education</td>\n",
       "      <td>1</td>\n",
       "      <td>married</td>\n",
       "      <td>0</td>\n",
       "      <td>M</td>\n",
       "      <td>employee</td>\n",
       "      <td>0</td>\n",
       "      <td>42820.568</td>\n",
       "      <td>supplementary education</td>\n",
       "    </tr>\n",
       "    <tr>\n",
       "      <td>4</td>\n",
       "      <td>0</td>\n",
       "      <td>340266.072047</td>\n",
       "      <td>53</td>\n",
       "      <td>secondary education</td>\n",
       "      <td>1</td>\n",
       "      <td>civil partnership</td>\n",
       "      <td>1</td>\n",
       "      <td>F</td>\n",
       "      <td>retiree</td>\n",
       "      <td>0</td>\n",
       "      <td>25378.572</td>\n",
       "      <td>to have a wedding</td>\n",
       "    </tr>\n",
       "    <tr>\n",
       "      <td>5</td>\n",
       "      <td>0</td>\n",
       "      <td>-926.185831</td>\n",
       "      <td>27</td>\n",
       "      <td>bachelor's degree</td>\n",
       "      <td>0</td>\n",
       "      <td>civil partnership</td>\n",
       "      <td>1</td>\n",
       "      <td>M</td>\n",
       "      <td>business</td>\n",
       "      <td>0</td>\n",
       "      <td>40922.170</td>\n",
       "      <td>purchase of the house</td>\n",
       "    </tr>\n",
       "    <tr>\n",
       "      <td>6</td>\n",
       "      <td>0</td>\n",
       "      <td>-2879.202052</td>\n",
       "      <td>43</td>\n",
       "      <td>bachelor's degree</td>\n",
       "      <td>0</td>\n",
       "      <td>married</td>\n",
       "      <td>0</td>\n",
       "      <td>F</td>\n",
       "      <td>business</td>\n",
       "      <td>0</td>\n",
       "      <td>38484.156</td>\n",
       "      <td>housing transactions</td>\n",
       "    </tr>\n",
       "    <tr>\n",
       "      <td>7</td>\n",
       "      <td>0</td>\n",
       "      <td>-152.779569</td>\n",
       "      <td>50</td>\n",
       "      <td>SECONDARY EDUCATION</td>\n",
       "      <td>1</td>\n",
       "      <td>married</td>\n",
       "      <td>0</td>\n",
       "      <td>M</td>\n",
       "      <td>employee</td>\n",
       "      <td>0</td>\n",
       "      <td>21731.829</td>\n",
       "      <td>education</td>\n",
       "    </tr>\n",
       "    <tr>\n",
       "      <td>8</td>\n",
       "      <td>2</td>\n",
       "      <td>-6929.865299</td>\n",
       "      <td>35</td>\n",
       "      <td>BACHELOR'S DEGREE</td>\n",
       "      <td>0</td>\n",
       "      <td>civil partnership</td>\n",
       "      <td>1</td>\n",
       "      <td>F</td>\n",
       "      <td>employee</td>\n",
       "      <td>0</td>\n",
       "      <td>15337.093</td>\n",
       "      <td>having a wedding</td>\n",
       "    </tr>\n",
       "    <tr>\n",
       "      <td>9</td>\n",
       "      <td>0</td>\n",
       "      <td>-2188.756445</td>\n",
       "      <td>41</td>\n",
       "      <td>secondary education</td>\n",
       "      <td>1</td>\n",
       "      <td>married</td>\n",
       "      <td>0</td>\n",
       "      <td>M</td>\n",
       "      <td>employee</td>\n",
       "      <td>0</td>\n",
       "      <td>23108.150</td>\n",
       "      <td>purchase of the house for my family</td>\n",
       "    </tr>\n",
       "  </tbody>\n",
       "</table>\n",
       "</div>"
      ],
      "text/plain": [
       "   children  days_employed  dob_years            education  education_id  \\\n",
       "0         1   -8437.673028         42    bachelor's degree             0   \n",
       "1         1   -4024.803754         36  secondary education             1   \n",
       "2         0   -5623.422610         33  Secondary Education             1   \n",
       "3         3   -4124.747207         32  secondary education             1   \n",
       "4         0  340266.072047         53  secondary education             1   \n",
       "5         0    -926.185831         27    bachelor's degree             0   \n",
       "6         0   -2879.202052         43    bachelor's degree             0   \n",
       "7         0    -152.779569         50  SECONDARY EDUCATION             1   \n",
       "8         2   -6929.865299         35    BACHELOR'S DEGREE             0   \n",
       "9         0   -2188.756445         41  secondary education             1   \n",
       "\n",
       "       family_status  family_status_id gender income_type  debt  total_income  \\\n",
       "0            married                 0      F    employee     0     40620.102   \n",
       "1            married                 0      F    employee     0     17932.802   \n",
       "2            married                 0      M    employee     0     23341.752   \n",
       "3            married                 0      M    employee     0     42820.568   \n",
       "4  civil partnership                 1      F     retiree     0     25378.572   \n",
       "5  civil partnership                 1      M    business     0     40922.170   \n",
       "6            married                 0      F    business     0     38484.156   \n",
       "7            married                 0      M    employee     0     21731.829   \n",
       "8  civil partnership                 1      F    employee     0     15337.093   \n",
       "9            married                 0      M    employee     0     23108.150   \n",
       "\n",
       "                               purpose  \n",
       "0                purchase of the house  \n",
       "1                         car purchase  \n",
       "2                purchase of the house  \n",
       "3              supplementary education  \n",
       "4                    to have a wedding  \n",
       "5                purchase of the house  \n",
       "6                 housing transactions  \n",
       "7                            education  \n",
       "8                     having a wedding  \n",
       "9  purchase of the house for my family  "
      ]
     },
     "execution_count": 2,
     "metadata": {},
     "output_type": "execute_result"
    }
   ],
   "source": [
    "data.head(10)"
   ]
  },
  {
   "cell_type": "code",
   "execution_count": 3,
   "metadata": {},
   "outputs": [
    {
     "name": "stdout",
     "output_type": "stream",
     "text": [
      "<class 'pandas.core.frame.DataFrame'>\n",
      "RangeIndex: 21525 entries, 0 to 21524\n",
      "Data columns (total 12 columns):\n",
      "children            21525 non-null int64\n",
      "days_employed       19351 non-null float64\n",
      "dob_years           21525 non-null int64\n",
      "education           21525 non-null object\n",
      "education_id        21525 non-null int64\n",
      "family_status       21525 non-null object\n",
      "family_status_id    21525 non-null int64\n",
      "gender              21525 non-null object\n",
      "income_type         21525 non-null object\n",
      "debt                21525 non-null int64\n",
      "total_income        19351 non-null float64\n",
      "purpose             21525 non-null object\n",
      "dtypes: float64(2), int64(5), object(5)\n",
      "memory usage: 2.0+ MB\n"
     ]
    }
   ],
   "source": [
    "#check datatype\n",
    "data.info()"
   ]
  },
  {
   "cell_type": "code",
   "execution_count": 4,
   "metadata": {},
   "outputs": [
    {
     "name": "stdout",
     "output_type": "stream",
     "text": [
      "Unique values in columnchildren: [ 1  0  3  2 -1  4 20  5]\n",
      "Unique values in columndob_years: [42 36 33 32 53 27 43 50 35 41 40 65 54 56 26 48 24 21 57 67 28 63 62 47\n",
      " 34 68 25 31 30 20 49 37 45 61 64 44 52 46 23 38 39 51  0 59 29 60 55 58\n",
      " 71 22 73 66 69 19 72 70 74 75]\n",
      "Unique values in columneducation: [\"bachelor's degree\" 'secondary education' 'Secondary Education'\n",
      " 'SECONDARY EDUCATION' \"BACHELOR'S DEGREE\" 'some college'\n",
      " 'primary education' \"Bachelor's Degree\" 'SOME COLLEGE' 'Some College'\n",
      " 'PRIMARY EDUCATION' 'Primary Education' 'Graduate Degree'\n",
      " 'GRADUATE DEGREE' 'graduate degree']\n",
      "Unique values in columneducation_id: [0 1 2 3 4]\n",
      "Unique values in columnfamily_status: ['married' 'civil partnership' 'widow / widower' 'divorced' 'unmarried']\n",
      "Unique values in columnfamily_status_id: [0 1 2 3 4]\n",
      "Unique values in columngender: ['F' 'M' 'XNA']\n",
      "Unique values in columnincome_type: ['employee' 'retiree' 'business' 'civil servant' 'unemployed'\n",
      " 'entrepreneur' 'student' 'paternity / maternity leave']\n",
      "Unique values in columndebt: [0 1]\n",
      "Unique values in columnpurpose: ['purchase of the house' 'car purchase' 'supplementary education'\n",
      " 'to have a wedding' 'housing transactions' 'education' 'having a wedding'\n",
      " 'purchase of the house for my family' 'buy real estate'\n",
      " 'buy commercial real estate' 'buy residential real estate'\n",
      " 'construction of own property' 'property' 'building a property'\n",
      " 'buying a second-hand car' 'buying my own car'\n",
      " 'transactions with commercial real estate' 'building a real estate'\n",
      " 'housing' 'transactions with my real estate' 'cars' 'to become educated'\n",
      " 'second-hand car purchase' 'getting an education' 'car'\n",
      " 'wedding ceremony' 'to get a supplementary education'\n",
      " 'purchase of my own house' 'real estate transactions'\n",
      " 'getting higher education' 'to own a car' 'purchase of a car'\n",
      " 'profile education' 'university education'\n",
      " 'buying property for renting out' 'to buy a car' 'housing renovation'\n",
      " 'going to university']\n"
     ]
    }
   ],
   "source": [
    "for i in data.columns.drop(['days_employed', 'total_income']): \n",
    "    print(f'Unique values in column{str (i)}: {data[i].unique()}')"
   ]
  },
  {
   "cell_type": "markdown",
   "metadata": {},
   "source": [
    "We checked for uniqueness in our dataset. We found out that:\n",
    "\n",
    "children has a negative value of -1 so we have to deal with it\n",
    "days_employed have negative value of days. We have to take the absolute value for our analysis to be accurate\n",
    "education has duplicate data\n",
    "gender has an 'XNA' entry. Since there is no logical way to decide whether that entry is for a male or female, we would have to drop that row."
   ]
  },
  {
   "cell_type": "code",
   "execution_count": 5,
   "metadata": {},
   "outputs": [
    {
     "data": {
      "text/plain": [
       " 0     14149\n",
       " 1      4818\n",
       " 2      2055\n",
       " 3       330\n",
       " 20       76\n",
       "-1        47\n",
       " 4        41\n",
       " 5         9\n",
       "Name: children, dtype: int64"
      ]
     },
     "execution_count": 5,
     "metadata": {},
     "output_type": "execute_result"
    }
   ],
   "source": [
    "data['children'].value_counts()"
   ]
  },
  {
   "cell_type": "code",
   "execution_count": 6,
   "metadata": {},
   "outputs": [
    {
     "data": {
      "text/plain": [
       "F      14236\n",
       "M       7288\n",
       "XNA        1\n",
       "Name: gender, dtype: int64"
      ]
     },
     "execution_count": 6,
     "metadata": {},
     "output_type": "execute_result"
    }
   ],
   "source": [
    "data['gender'].value_counts()"
   ]
  },
  {
   "cell_type": "markdown",
   "metadata": {},
   "source": [
    "### Conclusion"
   ]
  },
  {
   "cell_type": "markdown",
   "metadata": {},
   "source": [
    "From the Data Preprocessing section, we computed the number of missing values per column and the percentage of missing values per column. We can see that 10% of rows are missing days_employed and total_income. Since the type of data with missing values are quantitative, and the data are \"Missing not at random\", we proceed to drop those rows with missing values. We drop missing rows because 10% of missing values would not really skew our analysis."
   ]
  },
  {
   "cell_type": "markdown",
   "metadata": {},
   "source": [
    "## Data preprocessing"
   ]
  },
  {
   "cell_type": "markdown",
   "metadata": {},
   "source": [
    "### Processing missing values"
   ]
  },
  {
   "cell_type": "code",
   "execution_count": 7,
   "metadata": {},
   "outputs": [
    {
     "name": "stdout",
     "output_type": "stream",
     "text": [
      "<class 'pandas.core.frame.DataFrame'>\n",
      "RangeIndex: 21525 entries, 0 to 21524\n",
      "Data columns (total 12 columns):\n",
      "children            21525 non-null int64\n",
      "days_employed       21525 non-null float64\n",
      "dob_years           21525 non-null int64\n",
      "education           21525 non-null object\n",
      "education_id        21525 non-null int64\n",
      "family_status       21525 non-null object\n",
      "family_status_id    21525 non-null int64\n",
      "gender              21525 non-null object\n",
      "income_type         21525 non-null object\n",
      "debt                21525 non-null int64\n",
      "total_income        19351 non-null float64\n",
      "purpose             21525 non-null object\n",
      "dtypes: float64(2), int64(5), object(5)\n",
      "memory usage: 2.0+ MB\n"
     ]
    }
   ],
   "source": [
    "data['days_employed'] = data['days_employed'].fillna(0)\n",
    "data.info()"
   ]
  },
  {
   "cell_type": "code",
   "execution_count": 8,
   "metadata": {},
   "outputs": [
    {
     "name": "stdout",
     "output_type": "stream",
     "text": [
      "Maximum monthly income:  362497\n",
      "Minimum monthly income:  3307\n",
      "Ratio of maximum monthly income to minimum income:  110\n"
     ]
    }
   ],
   "source": [
    "print(\"Maximum monthly income: {: .0f}\".format(data['total_income'].max ()))\n",
    "print(\"Minimum monthly income: {: .0f}\".format(data['total_income'].min ()))\n",
    "print(\"Ratio of maximum monthly income to minimum income: {: .0f}\".format(\n",
    "     data['total_income'].max() / data['total_income'].min ()))"
   ]
  },
  {
   "cell_type": "code",
   "execution_count": 9,
   "metadata": {},
   "outputs": [
    {
     "data": {
      "text/plain": [
       "income_type\n",
       "business                       27577.2720\n",
       "civil servant                  24071.6695\n",
       "employee                       22815.1035\n",
       "entrepreneur                   79866.1030\n",
       "paternity / maternity leave     8612.6610\n",
       "retiree                        18962.3180\n",
       "student                        15712.2600\n",
       "unemployed                     21014.3605\n",
       "Name: total_income, dtype: float64"
      ]
     },
     "execution_count": 9,
     "metadata": {},
     "output_type": "execute_result"
    }
   ],
   "source": [
    "data.groupby('income_type')['total_income'].median()     "
   ]
  },
  {
   "cell_type": "code",
   "execution_count": 10,
   "metadata": {},
   "outputs": [],
   "source": [
    "data['total_income'] = data[['total_income']].fillna(data.groupby(\"income_type\").transform(\"median\"))"
   ]
  },
  {
   "cell_type": "code",
   "execution_count": 11,
   "metadata": {},
   "outputs": [
    {
     "name": "stdout",
     "output_type": "stream",
     "text": [
      "<class 'pandas.core.frame.DataFrame'>\n",
      "RangeIndex: 21525 entries, 0 to 21524\n",
      "Data columns (total 12 columns):\n",
      "children            21525 non-null int64\n",
      "days_employed       21525 non-null float64\n",
      "dob_years           21525 non-null int64\n",
      "education           21525 non-null object\n",
      "education_id        21525 non-null int64\n",
      "family_status       21525 non-null object\n",
      "family_status_id    21525 non-null int64\n",
      "gender              21525 non-null object\n",
      "income_type         21525 non-null object\n",
      "debt                21525 non-null int64\n",
      "total_income        21525 non-null float64\n",
      "purpose             21525 non-null object\n",
      "dtypes: float64(2), int64(5), object(5)\n",
      "memory usage: 2.0+ MB\n"
     ]
    }
   ],
   "source": [
    "data.info()"
   ]
  },
  {
   "cell_type": "code",
   "execution_count": 12,
   "metadata": {},
   "outputs": [],
   "source": [
    "data['children'] = data['children'].replace(-1, 1)"
   ]
  },
  {
   "cell_type": "code",
   "execution_count": 13,
   "metadata": {},
   "outputs": [
    {
     "data": {
      "text/plain": [
       "0     14149\n",
       "1      4865\n",
       "2      2055\n",
       "3       330\n",
       "20       76\n",
       "4        41\n",
       "5         9\n",
       "Name: children, dtype: int64"
      ]
     },
     "execution_count": 13,
     "metadata": {},
     "output_type": "execute_result"
    }
   ],
   "source": [
    "data['children'].value_counts()"
   ]
  },
  {
   "cell_type": "markdown",
   "metadata": {},
   "source": [
    "### Conclusion"
   ]
  },
  {
   "cell_type": "markdown",
   "metadata": {},
   "source": [
    "All missing values of type \"NaN\" in columns 'days_employed' and 'total_income' are filled with zeros and median for income_type groups, respectively. Value (-1) in column 'children' is replaced with (1). Since it is not possible to identify the gender of the client in the lines with the data 'xna' according to the available data and we are not faced with research tasks concerning the gender of the client, we will leave the data unchanged."
   ]
  },
  {
   "cell_type": "markdown",
   "metadata": {},
   "source": [
    "### Data type replacement"
   ]
  },
  {
   "cell_type": "code",
   "execution_count": 14,
   "metadata": {},
   "outputs": [],
   "source": [
    "data['days_employed'] = abs(data['days_employed']) \n",
    "#data.loc[data['days_employed'] < 0,'days_employed'] = data['days_employed'] * (-1) "
   ]
  },
  {
   "cell_type": "code",
   "execution_count": 15,
   "metadata": {},
   "outputs": [],
   "source": [
    "data['days_employed'] = data['days_employed'].astype('int') \n",
    "data['total_income'] = data['total_income'].astype('int')"
   ]
  },
  {
   "cell_type": "code",
   "execution_count": 16,
   "metadata": {
    "scrolled": true
   },
   "outputs": [
    {
     "data": {
      "text/plain": [
       "children             int64\n",
       "days_employed        int64\n",
       "dob_years            int64\n",
       "education           object\n",
       "education_id         int64\n",
       "family_status       object\n",
       "family_status_id     int64\n",
       "gender              object\n",
       "income_type         object\n",
       "debt                 int64\n",
       "total_income         int64\n",
       "purpose             object\n",
       "dtype: object"
      ]
     },
     "execution_count": 16,
     "metadata": {},
     "output_type": "execute_result"
    }
   ],
   "source": [
    "data.dtypes"
   ]
  },
  {
   "cell_type": "code",
   "execution_count": 17,
   "metadata": {},
   "outputs": [
    {
     "data": {
      "text/html": [
       "<div>\n",
       "<style scoped>\n",
       "    .dataframe tbody tr th:only-of-type {\n",
       "        vertical-align: middle;\n",
       "    }\n",
       "\n",
       "    .dataframe tbody tr th {\n",
       "        vertical-align: top;\n",
       "    }\n",
       "\n",
       "    .dataframe thead th {\n",
       "        text-align: right;\n",
       "    }\n",
       "</style>\n",
       "<table border=\"1\" class=\"dataframe\">\n",
       "  <thead>\n",
       "    <tr style=\"text-align: right;\">\n",
       "      <th></th>\n",
       "      <th>days_employed</th>\n",
       "      <th>total_income</th>\n",
       "    </tr>\n",
       "  </thead>\n",
       "  <tbody>\n",
       "    <tr>\n",
       "      <td>0</td>\n",
       "      <td>8437</td>\n",
       "      <td>40620</td>\n",
       "    </tr>\n",
       "    <tr>\n",
       "      <td>1</td>\n",
       "      <td>4024</td>\n",
       "      <td>17932</td>\n",
       "    </tr>\n",
       "    <tr>\n",
       "      <td>2</td>\n",
       "      <td>5623</td>\n",
       "      <td>23341</td>\n",
       "    </tr>\n",
       "    <tr>\n",
       "      <td>3</td>\n",
       "      <td>4124</td>\n",
       "      <td>42820</td>\n",
       "    </tr>\n",
       "    <tr>\n",
       "      <td>4</td>\n",
       "      <td>340266</td>\n",
       "      <td>25378</td>\n",
       "    </tr>\n",
       "  </tbody>\n",
       "</table>\n",
       "</div>"
      ],
      "text/plain": [
       "   days_employed  total_income\n",
       "0           8437         40620\n",
       "1           4024         17932\n",
       "2           5623         23341\n",
       "3           4124         42820\n",
       "4         340266         25378"
      ]
     },
     "execution_count": 17,
     "metadata": {},
     "output_type": "execute_result"
    }
   ],
   "source": [
    "data[['days_employed', 'total_income']].head()"
   ]
  },
  {
   "cell_type": "code",
   "execution_count": 18,
   "metadata": {},
   "outputs": [
    {
     "name": "stdout",
     "output_type": "stream",
     "text": [
      "There are no negative values in the days_employed column.\n"
     ]
    }
   ],
   "source": [
    "if data[data['days_employed'] < 0]['days_employed'].count() > 0: \n",
    "    print('There are negative values in the \"days_employed\" column')\n",
    "else:\n",
    "    print('There are no negative values in the days_employed column.')"
   ]
  },
  {
   "cell_type": "markdown",
   "metadata": {},
   "source": [
    "# Conclusion"
   ]
  },
  {
   "cell_type": "markdown",
   "metadata": {},
   "source": [
    "For convenience and clarity of data analysis, the values in the 'days_employed' and 'total_income' columns are replaced with integer values by the .astype ('int') method."
   ]
  },
  {
   "cell_type": "markdown",
   "metadata": {},
   "source": [
    "### Processing duplicates"
   ]
  },
  {
   "cell_type": "code",
   "execution_count": 19,
   "metadata": {},
   "outputs": [
    {
     "name": "stdout",
     "output_type": "stream",
     "text": [
      "Unique values in the column \"family status\": ['married' 'civil partnership' 'widow / widower' 'divorced' 'unmarried']\n",
      "Unique values in the column \"customer education\": [\"bachelor's degree\" 'secondary education' 'some college'\n",
      " 'primary education' 'graduate degree']\n"
     ]
    }
   ],
   "source": [
    "data['family_status'] = data['family_status'].str.lower() \n",
    "data['education'] = data['education'].str.lower() \n",
    "print('Unique values in the column \"family status\":', data['family_status'].unique())\n",
    "print('Unique values in the column \"customer education\":', data['education'].unique())"
   ]
  },
  {
   "cell_type": "code",
   "execution_count": 20,
   "metadata": {},
   "outputs": [
    {
     "data": {
      "text/plain": [
       "71"
      ]
     },
     "execution_count": 20,
     "metadata": {},
     "output_type": "execute_result"
    }
   ],
   "source": [
    "data.duplicated().sum()"
   ]
  },
  {
   "cell_type": "code",
   "execution_count": 21,
   "metadata": {},
   "outputs": [],
   "source": [
    "data = data.drop_duplicates().reset_index(drop=True)"
   ]
  },
  {
   "cell_type": "markdown",
   "metadata": {},
   "source": [
    "### Conclusion"
   ]
  },
  {
   "cell_type": "markdown",
   "metadata": {},
   "source": [
    "Decreasing values are reduced to the general form of writing in lower case. Identified and removed 71 duplicate lines. Possible reasons for the occurrence of duplicates in the human factor, errors when converting the dataframe."
   ]
  },
  {
   "cell_type": "markdown",
   "metadata": {},
   "source": [
    "### Categorizing Data"
   ]
  },
  {
   "cell_type": "code",
   "execution_count": 22,
   "metadata": {},
   "outputs": [],
   "source": [
    "def children_category(row):\n",
    "    if row == 0:\n",
    "        return 'no children'\n",
    "    return 'children'"
   ]
  },
  {
   "cell_type": "code",
   "execution_count": 23,
   "metadata": {},
   "outputs": [],
   "source": [
    "data['children_status'] = data['children'].apply(children_category)"
   ]
  },
  {
   "cell_type": "code",
   "execution_count": 24,
   "metadata": {},
   "outputs": [
    {
     "data": {
      "text/plain": [
       "no children    14091\n",
       "children        7363\n",
       "Name: children_status, dtype: int64"
      ]
     },
     "execution_count": 24,
     "metadata": {},
     "output_type": "execute_result"
    }
   ],
   "source": [
    "data['children_status'].value_counts()"
   ]
  },
  {
   "cell_type": "code",
   "execution_count": 25,
   "metadata": {},
   "outputs": [
    {
     "name": "stdout",
     "output_type": "stream",
     "text": [
      "Dictionary for determining position\n"
     ]
    },
    {
     "data": {
      "text/html": [
       "<div>\n",
       "<style scoped>\n",
       "    .dataframe tbody tr th:only-of-type {\n",
       "        vertical-align: middle;\n",
       "    }\n",
       "\n",
       "    .dataframe tbody tr th {\n",
       "        vertical-align: top;\n",
       "    }\n",
       "\n",
       "    .dataframe thead th {\n",
       "        text-align: right;\n",
       "    }\n",
       "</style>\n",
       "<table border=\"1\" class=\"dataframe\">\n",
       "  <thead>\n",
       "    <tr style=\"text-align: right;\">\n",
       "      <th></th>\n",
       "      <th>family_status_id</th>\n",
       "      <th>family_status</th>\n",
       "    </tr>\n",
       "  </thead>\n",
       "  <tbody>\n",
       "    <tr>\n",
       "      <td>0</td>\n",
       "      <td>0</td>\n",
       "      <td>married</td>\n",
       "    </tr>\n",
       "    <tr>\n",
       "      <td>1</td>\n",
       "      <td>1</td>\n",
       "      <td>civil partnership</td>\n",
       "    </tr>\n",
       "    <tr>\n",
       "      <td>2</td>\n",
       "      <td>2</td>\n",
       "      <td>widow / widower</td>\n",
       "    </tr>\n",
       "    <tr>\n",
       "      <td>3</td>\n",
       "      <td>3</td>\n",
       "      <td>divorced</td>\n",
       "    </tr>\n",
       "    <tr>\n",
       "      <td>4</td>\n",
       "      <td>4</td>\n",
       "      <td>unmarried</td>\n",
       "    </tr>\n",
       "  </tbody>\n",
       "</table>\n",
       "</div>"
      ],
      "text/plain": [
       "   family_status_id      family_status\n",
       "0                 0            married\n",
       "1                 1  civil partnership\n",
       "2                 2    widow / widower\n",
       "3                 3           divorced\n",
       "4                 4          unmarried"
      ]
     },
     "execution_count": 25,
     "metadata": {},
     "output_type": "execute_result"
    }
   ],
   "source": [
    "print('Dictionary for determining position')\n",
    "family_dictionary = data[['family_status_id', 'family_status']].drop_duplicates().reset_index(drop=True)\n",
    "family_dictionary"
   ]
  },
  {
   "cell_type": "code",
   "execution_count": 26,
   "metadata": {},
   "outputs": [
    {
     "data": {
      "text/plain": [
       "0    12339\n",
       "1     4151\n",
       "2      959\n",
       "3     1195\n",
       "4     2810\n",
       "Name: family_status_id, dtype: int64"
      ]
     },
     "execution_count": 26,
     "metadata": {},
     "output_type": "execute_result"
    }
   ],
   "source": [
    "data['family_status_id'].value_counts(sort=False)"
   ]
  },
  {
   "cell_type": "code",
   "execution_count": 27,
   "metadata": {},
   "outputs": [],
   "source": [
    "low_income = (data['total_income']).quantile(.33) \n",
    "mean_income = (data['total_income']).quantile(.66)"
   ]
  },
  {
   "cell_type": "code",
   "execution_count": 28,
   "metadata": {},
   "outputs": [],
   "source": [
    "def income(total_income):\n",
    "    if total_income <= low_income:\n",
    "        return \"low_income\"\n",
    "    if total_income <= mean_income:\n",
    "        return \"average_income\"\n",
    "    return \"high_income\""
   ]
  },
  {
   "cell_type": "code",
   "execution_count": 29,
   "metadata": {},
   "outputs": [
    {
     "name": "stdout",
     "output_type": "stream",
     "text": [
      "If the average monthly income is not more than 18962, then the client is defined in the 'low_income'\n",
      "If the average monthly income is not more than 27577, then the client is determined to the 'average_income'\n",
      "If the average monthly income is more than 27577, then the client is identified in the 'high_income'\n"
     ]
    }
   ],
   "source": [
    "print(f\"If the average monthly income is not more than {low_income:.0f}, then the client is defined in the '{income(low_income)}'\")\n",
    "print(f\"If the average monthly income is not more than {mean_income:.0f}, then the client is determined to the '{income(mean_income)}'\")\n",
    "print(f\"If the average monthly income is more than {mean_income:.0f}, then the client is identified in the '{income(mean_income + 0.1)}'\")"
   ]
  },
  {
   "cell_type": "code",
   "execution_count": 30,
   "metadata": {},
   "outputs": [],
   "source": [
    "data['income_group'] = data['total_income'].apply(income)"
   ]
  },
  {
   "cell_type": "code",
   "execution_count": 31,
   "metadata": {},
   "outputs": [
    {
     "data": {
      "text/plain": [
       "average_income    7340\n",
       "low_income        7097\n",
       "high_income       7017\n",
       "Name: income_group, dtype: int64"
      ]
     },
     "execution_count": 31,
     "metadata": {},
     "output_type": "execute_result"
    }
   ],
   "source": [
    "data['income_group'].value_counts()"
   ]
  },
  {
   "cell_type": "code",
   "execution_count": 32,
   "metadata": {},
   "outputs": [],
   "source": [
    "lemm_list = ['renovation', 'construction', 'wedding', 'housing', 'education', 'car', 'real estate'] \n",
    "\n",
    "def purpose_categorize(row):\n",
    "    for word in lemm_list:\n",
    "        if word in row:\n",
    "            return word"
   ]
  },
  {
   "cell_type": "code",
   "execution_count": 33,
   "metadata": {},
   "outputs": [],
   "source": [
    "data['purpose_category'] = data['purpose'].apply(purpose_categorize)"
   ]
  },
  {
   "cell_type": "code",
   "execution_count": 34,
   "metadata": {},
   "outputs": [
    {
     "data": {
      "text/plain": [
       "real estate     4464\n",
       "car             4306\n",
       "education       3109\n",
       "wedding         2324\n",
       "housing         1298\n",
       "construction     635\n",
       "renovation       607\n",
       "Name: purpose_category, dtype: int64"
      ]
     },
     "execution_count": 34,
     "metadata": {},
     "output_type": "execute_result"
    }
   ],
   "source": [
    "data['purpose_category'].value_counts()"
   ]
  },
  {
   "cell_type": "markdown",
   "metadata": {},
   "source": [
    "### Conclusion"
   ]
  },
  {
   "cell_type": "markdown",
   "metadata": {},
   "source": [
    "The data required to solve the assigned tasks is categorized. Columns have been created to categorize by the presence of children, average monthly income, loan purposes. A dictionary has been compiled to determine the family status of a client."
   ]
  },
  {
   "cell_type": "markdown",
   "metadata": {},
   "source": [
    "## Answer these questions"
   ]
  },
  {
   "cell_type": "markdown",
   "metadata": {},
   "source": [
    "- Is there a relation between having kids and repaying a loan on time?"
   ]
  },
  {
   "cell_type": "code",
   "execution_count": 35,
   "metadata": {},
   "outputs": [
    {
     "data": {
      "text/html": [
       "<style  type=\"text/css\" >\n",
       "</style><table id=\"T_2a925a38_1549_11ec_9f59_02420a3973e1\" ><thead>    <tr>        <th class=\"blank level0\" ></th>        <th class=\"col_heading level0 col0\" >debt</th>    </tr>    <tr>        <th class=\"index_name level0\" >children_status</th>        <th class=\"blank\" ></th>    </tr></thead><tbody>\n",
       "                <tr>\n",
       "                        <th id=\"T_2a925a38_1549_11ec_9f59_02420a3973e1level0_row0\" class=\"row_heading level0 row0\" >children</th>\n",
       "                        <td id=\"T_2a925a38_1549_11ec_9f59_02420a3973e1row0_col0\" class=\"data row0 col0\" >9.21%</td>\n",
       "            </tr>\n",
       "            <tr>\n",
       "                        <th id=\"T_2a925a38_1549_11ec_9f59_02420a3973e1level0_row1\" class=\"row_heading level0 row1\" >no children</th>\n",
       "                        <td id=\"T_2a925a38_1549_11ec_9f59_02420a3973e1row1_col0\" class=\"data row1 col0\" >7.54%</td>\n",
       "            </tr>\n",
       "    </tbody></table>"
      ],
      "text/plain": [
       "<pandas.io.formats.style.Styler at 0x7fc55c806fd0>"
      ]
     },
     "execution_count": 35,
     "metadata": {},
     "output_type": "execute_result"
    }
   ],
   "source": [
    "data_pivot_children = data.pivot_table(index=['children_status'], values='debt', aggfunc='mean')\n",
    "data_pivot_children.style.format({'debt': '{:.2%}'})"
   ]
  },
  {
   "cell_type": "markdown",
   "metadata": {},
   "source": [
    "### Conclusion"
   ]
  },
  {
   "cell_type": "markdown",
   "metadata": {},
   "source": [
    "9.21% of clients in the category \"have children\" have a loan repayment debt. 7.54% of clients in the \"no children\" category have loan repayments in arrears. The presence of children increases the likelihood of loan defaults on time."
   ]
  },
  {
   "cell_type": "markdown",
   "metadata": {},
   "source": [
    "- Is there a relation between marital status and repaying a loan on time?"
   ]
  },
  {
   "cell_type": "code",
   "execution_count": 36,
   "metadata": {},
   "outputs": [
    {
     "data": {
      "text/html": [
       "<style  type=\"text/css\" >\n",
       "</style><table id=\"T_2a96825c_1549_11ec_9f59_02420a3973e1\" ><thead>    <tr>        <th class=\"blank level0\" ></th>        <th class=\"col_heading level0 col0\" >debt</th>    </tr>    <tr>        <th class=\"index_name level0\" >family_status</th>        <th class=\"blank\" ></th>    </tr></thead><tbody>\n",
       "                <tr>\n",
       "                        <th id=\"T_2a96825c_1549_11ec_9f59_02420a3973e1level0_row0\" class=\"row_heading level0 row0\" >unmarried</th>\n",
       "                        <td id=\"T_2a96825c_1549_11ec_9f59_02420a3973e1row0_col0\" class=\"data row0 col0\" >9.75%</td>\n",
       "            </tr>\n",
       "            <tr>\n",
       "                        <th id=\"T_2a96825c_1549_11ec_9f59_02420a3973e1level0_row1\" class=\"row_heading level0 row1\" >civil partnership</th>\n",
       "                        <td id=\"T_2a96825c_1549_11ec_9f59_02420a3973e1row1_col0\" class=\"data row1 col0\" >9.35%</td>\n",
       "            </tr>\n",
       "            <tr>\n",
       "                        <th id=\"T_2a96825c_1549_11ec_9f59_02420a3973e1level0_row2\" class=\"row_heading level0 row2\" >married</th>\n",
       "                        <td id=\"T_2a96825c_1549_11ec_9f59_02420a3973e1row2_col0\" class=\"data row2 col0\" >7.55%</td>\n",
       "            </tr>\n",
       "            <tr>\n",
       "                        <th id=\"T_2a96825c_1549_11ec_9f59_02420a3973e1level0_row3\" class=\"row_heading level0 row3\" >divorced</th>\n",
       "                        <td id=\"T_2a96825c_1549_11ec_9f59_02420a3973e1row3_col0\" class=\"data row3 col0\" >7.11%</td>\n",
       "            </tr>\n",
       "            <tr>\n",
       "                        <th id=\"T_2a96825c_1549_11ec_9f59_02420a3973e1level0_row4\" class=\"row_heading level0 row4\" >widow / widower</th>\n",
       "                        <td id=\"T_2a96825c_1549_11ec_9f59_02420a3973e1row4_col0\" class=\"data row4 col0\" >6.57%</td>\n",
       "            </tr>\n",
       "    </tbody></table>"
      ],
      "text/plain": [
       "<pandas.io.formats.style.Styler at 0x7fc55c510e10>"
      ]
     },
     "execution_count": 36,
     "metadata": {},
     "output_type": "execute_result"
    }
   ],
   "source": [
    "data_pivot_family = data.pivot_table(index=['family_status'], values='debt', aggfunc='mean')\n",
    "data_pivot_family.sort_values(by = 'debt', ascending=False).style.format({'debt': '{:.2%}'})"
   ]
  },
  {
   "cell_type": "markdown",
   "metadata": {},
   "source": [
    "### Conclusion"
   ]
  },
  {
   "cell_type": "markdown",
   "metadata": {},
   "source": [
    "The smallest share of non-repayment of loans on time is observed in the category \"widower / widow\" - 6.57%.\n",
    "The largest share of non-repayment of loans on time is observed in the categories \"not married / not married\" and \"civil marriage\" - 9.75% and 9.35%, respectively.\n",
    "The seed position significantly affects the loan repayment on time."
   ]
  },
  {
   "cell_type": "markdown",
   "metadata": {},
   "source": [
    "- Is there a relation between income level and repaying a loan on time?"
   ]
  },
  {
   "cell_type": "code",
   "execution_count": 37,
   "metadata": {},
   "outputs": [
    {
     "data": {
      "text/html": [
       "<style  type=\"text/css\" >\n",
       "</style><table id=\"T_2a99afcc_1549_11ec_9f59_02420a3973e1\" ><thead>    <tr>        <th class=\"blank level0\" ></th>        <th class=\"col_heading level0 col0\" >debt</th>    </tr>    <tr>        <th class=\"index_name level0\" >income_group</th>        <th class=\"blank\" ></th>    </tr></thead><tbody>\n",
       "                <tr>\n",
       "                        <th id=\"T_2a99afcc_1549_11ec_9f59_02420a3973e1level0_row0\" class=\"row_heading level0 row0\" >average_income</th>\n",
       "                        <td id=\"T_2a99afcc_1549_11ec_9f59_02420a3973e1row0_col0\" class=\"data row0 col0\" >8.64%</td>\n",
       "            </tr>\n",
       "            <tr>\n",
       "                        <th id=\"T_2a99afcc_1549_11ec_9f59_02420a3973e1level0_row1\" class=\"row_heading level0 row1\" >low_income</th>\n",
       "                        <td id=\"T_2a99afcc_1549_11ec_9f59_02420a3973e1row1_col0\" class=\"data row1 col0\" >8.16%</td>\n",
       "            </tr>\n",
       "            <tr>\n",
       "                        <th id=\"T_2a99afcc_1549_11ec_9f59_02420a3973e1level0_row2\" class=\"row_heading level0 row2\" >high_income</th>\n",
       "                        <td id=\"T_2a99afcc_1549_11ec_9f59_02420a3973e1row2_col0\" class=\"data row2 col0\" >7.52%</td>\n",
       "            </tr>\n",
       "    </tbody></table>"
      ],
      "text/plain": [
       "<pandas.io.formats.style.Styler at 0x7fc55ba31a10>"
      ]
     },
     "execution_count": 37,
     "metadata": {},
     "output_type": "execute_result"
    }
   ],
   "source": [
    "data_pivot_income = data.pivot_table(index=['income_group'], values='debt', aggfunc='mean')\n",
    "data_pivot_income.sort_values(by='debt', ascending=False).style.format({'debt': '{:.2%}'})"
   ]
  },
  {
   "cell_type": "markdown",
   "metadata": {},
   "source": [
    "### Conclusion"
   ]
  },
  {
   "cell_type": "markdown",
   "metadata": {},
   "source": [
    "The smallest share of non-repayment of loans on time is observed in the category \"high level of income\" - 7.52%.\n",
    "The largest share of non-repayment of loans on time is observed in the category \"average income\" - 8.64%.\n",
    "The level of income least of all affects the loan repayment on time is in the category \"low income\" - 8.16%."
   ]
  },
  {
   "cell_type": "markdown",
   "metadata": {},
   "source": [
    "- How do different loan purposes affect on-time repayment of the loan?"
   ]
  },
  {
   "cell_type": "code",
   "execution_count": 38,
   "metadata": {},
   "outputs": [
    {
     "data": {
      "text/html": [
       "<style  type=\"text/css\" >\n",
       "</style><table id=\"T_2a9d6630_1549_11ec_9f59_02420a3973e1\" ><thead>    <tr>        <th class=\"blank level0\" ></th>        <th class=\"col_heading level0 col0\" >debt</th>    </tr>    <tr>        <th class=\"index_name level0\" >purpose_category</th>        <th class=\"blank\" ></th>    </tr></thead><tbody>\n",
       "                <tr>\n",
       "                        <th id=\"T_2a9d6630_1549_11ec_9f59_02420a3973e1level0_row0\" class=\"row_heading level0 row0\" >car</th>\n",
       "                        <td id=\"T_2a9d6630_1549_11ec_9f59_02420a3973e1row0_col0\" class=\"data row0 col0\" >9.36%</td>\n",
       "            </tr>\n",
       "            <tr>\n",
       "                        <th id=\"T_2a9d6630_1549_11ec_9f59_02420a3973e1level0_row1\" class=\"row_heading level0 row1\" >education</th>\n",
       "                        <td id=\"T_2a9d6630_1549_11ec_9f59_02420a3973e1row1_col0\" class=\"data row1 col0\" >9.26%</td>\n",
       "            </tr>\n",
       "            <tr>\n",
       "                        <th id=\"T_2a9d6630_1549_11ec_9f59_02420a3973e1level0_row2\" class=\"row_heading level0 row2\" >wedding</th>\n",
       "                        <td id=\"T_2a9d6630_1549_11ec_9f59_02420a3973e1row2_col0\" class=\"data row2 col0\" >8.00%</td>\n",
       "            </tr>\n",
       "            <tr>\n",
       "                        <th id=\"T_2a9d6630_1549_11ec_9f59_02420a3973e1level0_row3\" class=\"row_heading level0 row3\" >real estate</th>\n",
       "                        <td id=\"T_2a9d6630_1549_11ec_9f59_02420a3973e1row3_col0\" class=\"data row3 col0\" >7.53%</td>\n",
       "            </tr>\n",
       "            <tr>\n",
       "                        <th id=\"T_2a9d6630_1549_11ec_9f59_02420a3973e1level0_row4\" class=\"row_heading level0 row4\" >housing</th>\n",
       "                        <td id=\"T_2a9d6630_1549_11ec_9f59_02420a3973e1row4_col0\" class=\"data row4 col0\" >7.24%</td>\n",
       "            </tr>\n",
       "            <tr>\n",
       "                        <th id=\"T_2a9d6630_1549_11ec_9f59_02420a3973e1level0_row5\" class=\"row_heading level0 row5\" >construction</th>\n",
       "                        <td id=\"T_2a9d6630_1549_11ec_9f59_02420a3973e1row5_col0\" class=\"data row5 col0\" >6.61%</td>\n",
       "            </tr>\n",
       "            <tr>\n",
       "                        <th id=\"T_2a9d6630_1549_11ec_9f59_02420a3973e1level0_row6\" class=\"row_heading level0 row6\" >renovation</th>\n",
       "                        <td id=\"T_2a9d6630_1549_11ec_9f59_02420a3973e1row6_col0\" class=\"data row6 col0\" >5.77%</td>\n",
       "            </tr>\n",
       "    </tbody></table>"
      ],
      "text/plain": [
       "<pandas.io.formats.style.Styler at 0x7fc55ba7b4d0>"
      ]
     },
     "execution_count": 38,
     "metadata": {},
     "output_type": "execute_result"
    }
   ],
   "source": [
    "data_pivot_purpose = data.pivot_table(index=['purpose_category'], values='debt', aggfunc='mean')\n",
    "data_pivot_purpose.sort_values(by = 'debt', ascending=False).style.format({'debt': '{:.2%}'})"
   ]
  },
  {
   "cell_type": "markdown",
   "metadata": {},
   "source": [
    "### Conclusion"
   ]
  },
  {
   "cell_type": "markdown",
   "metadata": {},
   "source": [
    "The smallest share of loan defaults on time is observed in the \"house\" category - 5.77%. The largest share of non-repayment of loans on time is observed in the category \"car\" - 9.36% and education - 9.36%.\n",
    "The purpose of the loan significantly affects its return on time."
   ]
  },
  {
   "cell_type": "markdown",
   "metadata": {},
   "source": [
    "## General conclusion"
   ]
  },
  {
   "cell_type": "markdown",
   "metadata": {},
   "source": [
    "The study analyzed data on the solvency of 21,525 clients, which include such characteristics as the number of children in the family, total work experience, age of the client, level of education, marital status, gender of the client, type of employment, presence / absence of debt to repay loans in past, monthly income, the purpose of obtaining a loan.\n",
    "\n",
    "The purposes of obtaining the loan were divided into four main categories: real estate, education, car and wedding - based on the goals indicated by the clients. We received 4,284 people for a car loan; 10 762 people for the purpose of a loan for real estate; 3,995 clients for educational purposes; and 2,310 people for the wedding. At the same time, there are no obvious dependencies between the goals of the loan and other factors.\n",
    "\n",
    "Data categorization was also carried out. Since the most obvious sign by which we can judge the likelihood of a client repaying a debt is his income, it was chosen as a criterion: the higher the income, the more likely the clients are to issue a loan (since his solvency is higher). However, it should be noted that in the absence of other data, we split the income into 5 equal categorical segments; which can influence the adoption of wrong decisions. The boundaries should be discussed with the project customer (bank) and, if necessary, adjusted.\n",
    "\n",
    "For income categories (probability of obtaining a loan), the following patterns were identified for other factors. For clients without children, the likelihood of a loan is generally medium and low. For clients with children (1 or more), the probability of extradition is distributed evenly. For people with higher education, clients with a high and very high probability of obtaining a loan prevail, and for clients with secondary or primary education - with an average and very low probability. In terms of marital status, there are no significant differences between the categories, except for the “widower / widow” category: for them, the probability of obtaining a loan is mostly medium or low. There are differences by gender: for women, the likelihood of getting a loan is mostly medium or low, and for men it is very high or high. This may not be due to gender differences in the bank's approach, but rather to gender differences in income that have developed in the labor market. For employees and retirees, the likelihood of obtaining a loan is, to a greater extent, medium or low. And for partners and civil servants - high and very high. But for civil servants, the probabilities are more evenly distributed. For the rest of the categories, there is insufficient data to identify patterns.\n",
    "\n",
    "Then, an analysis of the factors that can influence the loan repayment was carried out. Clients with almost any number of children (or their absence) return the loan in 9 cases out of 100. However, large families (with 5 children) do this in 100 cases out of 100 (although the sample may not be enough for such a conclusion). Nevertheless, the factor of the possibility of debt repayment may not be the number of children, but the availability of appropriate income, as well as the willingness to take responsibility. The same is true for the marital status: those living in a civil marriage or unmarried return the loan less often than married, widowed and divorced. It can also be indirectly related to the willingness to take responsibility or the age of the client. There is no direct relationship between income level and loan repayment, both people with high and low incomes have loan delinquencies (the percentage in both categories is very close). There is a direct relationship between the goals of the loan and its repayment on time: goals associated with higher costs and a later stage in life (real estate, wedding) are characterized by higher rates of debt repayment than the goals of a loan for education and a car."
   ]
  }
 ],
 "metadata": {
  "ExecuteTimeLog": [
   {
    "duration": 662,
    "start_time": "2021-08-31T20:13:50.608Z"
   },
   {
    "duration": 63,
    "start_time": "2021-08-31T20:39:33.433Z"
   },
   {
    "duration": 21,
    "start_time": "2021-08-31T20:42:09.804Z"
   },
   {
    "duration": 157,
    "start_time": "2021-08-31T20:45:06.418Z"
   },
   {
    "duration": 52,
    "start_time": "2021-08-31T20:54:51.896Z"
   },
   {
    "duration": 59,
    "start_time": "2021-08-31T20:54:58.264Z"
   },
   {
    "duration": 84,
    "start_time": "2021-08-31T20:57:31.250Z"
   },
   {
    "duration": 98,
    "start_time": "2021-08-31T20:59:49.342Z"
   },
   {
    "duration": 16,
    "start_time": "2021-08-31T21:01:09.775Z"
   },
   {
    "duration": 28,
    "start_time": "2021-08-31T21:01:49.488Z"
   },
   {
    "duration": 17,
    "start_time": "2021-08-31T21:02:29.027Z"
   },
   {
    "duration": 30,
    "start_time": "2021-08-31T21:04:07.600Z"
   },
   {
    "duration": 17,
    "start_time": "2021-08-31T21:04:42.093Z"
   },
   {
    "duration": 5,
    "start_time": "2021-08-31T21:05:20.104Z"
   },
   {
    "duration": 65,
    "start_time": "2021-08-31T21:06:45.994Z"
   },
   {
    "duration": 71,
    "start_time": "2021-08-31T21:09:01.342Z"
   },
   {
    "duration": 128,
    "start_time": "2021-08-31T21:09:41.072Z"
   },
   {
    "duration": 52,
    "start_time": "2021-08-31T21:09:55.533Z"
   },
   {
    "duration": 64,
    "start_time": "2021-08-31T21:10:04.254Z"
   },
   {
    "duration": 64,
    "start_time": "2021-08-31T21:10:18.383Z"
   },
   {
    "duration": 15,
    "start_time": "2021-08-31T21:12:05.121Z"
   },
   {
    "duration": 5,
    "start_time": "2021-08-31T21:12:09.041Z"
   },
   {
    "duration": 19,
    "start_time": "2021-08-31T21:12:28.134Z"
   },
   {
    "duration": 20,
    "start_time": "2021-08-31T21:12:33.435Z"
   },
   {
    "duration": 4,
    "start_time": "2021-09-04T18:22:16.150Z"
   },
   {
    "duration": 4,
    "start_time": "2021-09-04T18:26:38.340Z"
   },
   {
    "duration": 408,
    "start_time": "2021-09-04T18:27:08.557Z"
   },
   {
    "duration": 5,
    "start_time": "2021-09-06T23:13:17.961Z"
   },
   {
    "duration": 4,
    "start_time": "2021-09-06T23:15:51.084Z"
   },
   {
    "duration": 4,
    "start_time": "2021-09-06T23:16:03.563Z"
   },
   {
    "duration": 4,
    "start_time": "2021-09-06T23:16:32.914Z"
   },
   {
    "duration": 4,
    "start_time": "2021-09-06T23:17:42.818Z"
   },
   {
    "duration": 284,
    "start_time": "2021-09-06T23:18:52.978Z"
   },
   {
    "duration": 252,
    "start_time": "2021-09-06T23:26:27.953Z"
   },
   {
    "duration": 650,
    "start_time": "2021-09-06T23:26:46.715Z"
   },
   {
    "duration": 580,
    "start_time": "2021-09-06T23:27:23.171Z"
   },
   {
    "duration": 276,
    "start_time": "2021-09-06T23:27:47.929Z"
   },
   {
    "duration": 231,
    "start_time": "2021-09-07T00:31:47.217Z"
   },
   {
    "duration": 271,
    "start_time": "2021-09-07T00:32:27.887Z"
   },
   {
    "duration": 436,
    "start_time": "2021-09-07T00:32:50.787Z"
   },
   {
    "duration": 79,
    "start_time": "2021-09-07T00:33:34.176Z"
   },
   {
    "duration": 81,
    "start_time": "2021-09-07T00:33:39.767Z"
   },
   {
    "duration": 241,
    "start_time": "2021-09-07T00:33:50.253Z"
   },
   {
    "duration": 238,
    "start_time": "2021-09-07T00:34:15.717Z"
   },
   {
    "duration": 228,
    "start_time": "2021-09-07T00:34:24.976Z"
   },
   {
    "duration": 923,
    "start_time": "2021-09-07T00:34:46.477Z"
   },
   {
    "duration": 50,
    "start_time": "2021-09-07T00:34:58.989Z"
   },
   {
    "duration": 17,
    "start_time": "2021-09-07T00:35:04.687Z"
   },
   {
    "duration": 13,
    "start_time": "2021-09-07T00:35:11.286Z"
   },
   {
    "duration": 11,
    "start_time": "2021-09-07T00:35:16.635Z"
   },
   {
    "duration": 6,
    "start_time": "2021-09-07T00:35:58.627Z"
   },
   {
    "duration": 12,
    "start_time": "2021-09-07T00:36:20.934Z"
   },
   {
    "duration": 7,
    "start_time": "2021-09-07T00:36:27.117Z"
   },
   {
    "duration": 11,
    "start_time": "2021-09-07T00:37:27.807Z"
   },
   {
    "duration": 5,
    "start_time": "2021-09-07T00:39:40.246Z"
   },
   {
    "duration": 4,
    "start_time": "2021-09-07T00:39:45.586Z"
   },
   {
    "duration": 8,
    "start_time": "2021-09-07T00:40:37.787Z"
   },
   {
    "duration": 78,
    "start_time": "2021-09-07T00:41:05.444Z"
   },
   {
    "duration": 11,
    "start_time": "2021-09-07T00:41:49.810Z"
   },
   {
    "duration": 4,
    "start_time": "2021-09-07T00:42:30.882Z"
   },
   {
    "duration": 7,
    "start_time": "2021-09-07T00:42:57.553Z"
   },
   {
    "duration": 4,
    "start_time": "2021-09-07T00:45:03.963Z"
   },
   {
    "duration": 5,
    "start_time": "2021-09-07T00:45:36.860Z"
   },
   {
    "duration": 5,
    "start_time": "2021-09-07T00:46:05.462Z"
   },
   {
    "duration": 9,
    "start_time": "2021-09-07T00:46:36.482Z"
   },
   {
    "duration": 91,
    "start_time": "2021-09-07T00:49:06.282Z"
   },
   {
    "duration": 84,
    "start_time": "2021-09-07T00:49:59.933Z"
   },
   {
    "duration": 80,
    "start_time": "2021-09-07T00:51:34.671Z"
   },
   {
    "duration": 80,
    "start_time": "2021-09-07T00:51:41.452Z"
   },
   {
    "duration": 5,
    "start_time": "2021-09-07T00:52:31.575Z"
   },
   {
    "duration": 20,
    "start_time": "2021-09-07T00:54:30.764Z"
   },
   {
    "duration": 16,
    "start_time": "2021-09-07T00:55:07.417Z"
   },
   {
    "duration": 17,
    "start_time": "2021-09-07T01:32:52.437Z"
   },
   {
    "duration": 14,
    "start_time": "2021-09-07T01:41:57.355Z"
   },
   {
    "duration": 18,
    "start_time": "2021-09-07T01:42:16.388Z"
   },
   {
    "duration": 21,
    "start_time": "2021-09-07T01:42:54.590Z"
   },
   {
    "duration": 15,
    "start_time": "2021-09-07T01:43:00.269Z"
   },
   {
    "duration": 22,
    "start_time": "2021-09-07T01:43:31.923Z"
   },
   {
    "duration": 15,
    "start_time": "2021-09-07T01:43:38.532Z"
   },
   {
    "duration": 17,
    "start_time": "2021-09-07T01:43:39.474Z"
   },
   {
    "duration": 21,
    "start_time": "2021-09-07T01:46:28.318Z"
   },
   {
    "duration": 15,
    "start_time": "2021-09-07T01:46:29.579Z"
   },
   {
    "duration": 18,
    "start_time": "2021-09-07T01:46:30.546Z"
   },
   {
    "duration": 3,
    "start_time": "2021-09-07T01:48:59.938Z"
   },
   {
    "duration": 7,
    "start_time": "2021-09-07T01:49:04.956Z"
   },
   {
    "duration": 7,
    "start_time": "2021-09-07T01:49:31.787Z"
   },
   {
    "duration": 14,
    "start_time": "2021-09-07T01:52:18.887Z"
   },
   {
    "duration": 5,
    "start_time": "2021-09-07T01:53:02.080Z"
   },
   {
    "duration": 623,
    "start_time": "2021-09-07T01:55:54.295Z"
   },
   {
    "duration": 23,
    "start_time": "2021-09-07T01:57:06.940Z"
   },
   {
    "duration": 269,
    "start_time": "2021-09-07T02:00:05.543Z"
   },
   {
    "duration": 259,
    "start_time": "2021-09-07T02:00:58.895Z"
   },
   {
    "duration": 263,
    "start_time": "2021-09-07T02:02:06.547Z"
   },
   {
    "duration": 14,
    "start_time": "2021-09-07T02:04:13.325Z"
   },
   {
    "duration": 285,
    "start_time": "2021-09-07T02:06:37.467Z"
   },
   {
    "duration": 16,
    "start_time": "2021-09-07T02:07:15.947Z"
   },
   {
    "duration": 1219,
    "start_time": "2021-09-07T02:10:08.595Z"
   },
   {
    "duration": 1036,
    "start_time": "2021-09-07T02:10:14.836Z"
   },
   {
    "duration": 240,
    "start_time": "2021-09-07T02:11:36.939Z"
   },
   {
    "duration": 15,
    "start_time": "2021-09-07T02:12:16.366Z"
   },
   {
    "duration": 6,
    "start_time": "2021-09-07T02:17:34.907Z"
   },
   {
    "duration": 3,
    "start_time": "2021-09-07T02:19:21.849Z"
   },
   {
    "duration": 3,
    "start_time": "2021-09-07T02:23:27.432Z"
   },
   {
    "duration": 26,
    "start_time": "2021-09-07T02:23:57.467Z"
   },
   {
    "duration": 10,
    "start_time": "2021-09-07T02:24:21.695Z"
   },
   {
    "duration": 3,
    "start_time": "2021-09-07T02:26:58.324Z"
   },
   {
    "duration": 5926,
    "start_time": "2021-09-07T02:28:13.727Z"
   },
   {
    "duration": 6216,
    "start_time": "2021-09-07T02:28:40.417Z"
   },
   {
    "duration": 5859,
    "start_time": "2021-09-07T02:29:08.969Z"
   },
   {
    "duration": -21297,
    "start_time": "2021-09-07T02:29:36.127Z"
   },
   {
    "duration": 14,
    "start_time": "2021-09-07T02:30:58.296Z"
   },
   {
    "duration": 13,
    "start_time": "2021-09-07T02:31:08.038Z"
   },
   {
    "duration": 7,
    "start_time": "2021-09-07T02:31:09.679Z"
   },
   {
    "duration": 21,
    "start_time": "2021-09-07T02:44:22.857Z"
   },
   {
    "duration": 14,
    "start_time": "2021-09-07T02:45:31.047Z"
   },
   {
    "duration": 21,
    "start_time": "2021-09-07T02:50:50.625Z"
   },
   {
    "duration": 6,
    "start_time": "2021-09-07T02:52:43.246Z"
   },
   {
    "duration": 24,
    "start_time": "2021-09-07T02:52:55.947Z"
   },
   {
    "duration": 21,
    "start_time": "2021-09-07T02:52:59.910Z"
   },
   {
    "duration": 40,
    "start_time": "2021-09-07T02:53:17.150Z"
   },
   {
    "duration": 1106,
    "start_time": "2021-09-07T14:58:46.283Z"
   },
   {
    "duration": 42,
    "start_time": "2021-09-07T14:58:47.393Z"
   },
   {
    "duration": 14,
    "start_time": "2021-09-07T14:58:47.438Z"
   },
   {
    "duration": 37,
    "start_time": "2021-09-07T14:58:47.454Z"
   },
   {
    "duration": 8,
    "start_time": "2021-09-07T14:58:47.494Z"
   },
   {
    "duration": 9,
    "start_time": "2021-09-07T14:58:47.504Z"
   },
   {
    "duration": 19,
    "start_time": "2021-09-07T14:58:47.516Z"
   },
   {
    "duration": 44,
    "start_time": "2021-09-07T14:58:47.539Z"
   },
   {
    "duration": 9,
    "start_time": "2021-09-07T14:58:47.586Z"
   },
   {
    "duration": 134,
    "start_time": "2021-09-07T14:58:47.598Z"
   },
   {
    "duration": 14,
    "start_time": "2021-09-07T14:58:47.735Z"
   },
   {
    "duration": 4,
    "start_time": "2021-09-07T14:58:47.752Z"
   },
   {
    "duration": 25,
    "start_time": "2021-09-07T14:58:47.759Z"
   },
   {
    "duration": 6,
    "start_time": "2021-09-07T14:58:47.787Z"
   },
   {
    "duration": 11,
    "start_time": "2021-09-07T14:58:47.796Z"
   },
   {
    "duration": 7,
    "start_time": "2021-09-07T14:58:47.809Z"
   },
   {
    "duration": 16,
    "start_time": "2021-09-07T14:58:47.818Z"
   },
   {
    "duration": 49,
    "start_time": "2021-09-07T14:58:47.836Z"
   },
   {
    "duration": 27,
    "start_time": "2021-09-07T14:58:47.887Z"
   },
   {
    "duration": 21,
    "start_time": "2021-09-07T14:58:47.916Z"
   },
   {
    "duration": 59,
    "start_time": "2021-09-07T14:58:47.939Z"
   },
   {
    "duration": 4,
    "start_time": "2021-09-07T14:58:48.000Z"
   },
   {
    "duration": 15,
    "start_time": "2021-09-07T14:58:48.008Z"
   },
   {
    "duration": 14,
    "start_time": "2021-09-07T14:58:48.026Z"
   },
   {
    "duration": 67,
    "start_time": "2021-09-07T14:58:48.044Z"
   },
   {
    "duration": 10,
    "start_time": "2021-09-07T14:58:48.114Z"
   },
   {
    "duration": 9,
    "start_time": "2021-09-07T14:58:48.127Z"
   },
   {
    "duration": 5,
    "start_time": "2021-09-07T14:58:48.139Z"
   },
   {
    "duration": 5,
    "start_time": "2021-09-07T14:58:48.182Z"
   },
   {
    "duration": 25,
    "start_time": "2021-09-07T14:58:48.189Z"
   },
   {
    "duration": 9,
    "start_time": "2021-09-07T14:58:48.216Z"
   },
   {
    "duration": 4,
    "start_time": "2021-09-07T14:58:48.228Z"
   },
   {
    "duration": 57,
    "start_time": "2021-09-07T14:58:48.235Z"
   },
   {
    "duration": 10,
    "start_time": "2021-09-07T14:58:48.294Z"
   },
   {
    "duration": 886,
    "start_time": "2021-09-07T14:58:48.307Z"
   },
   {
    "duration": 22,
    "start_time": "2021-09-07T14:58:49.196Z"
   },
   {
    "duration": 27,
    "start_time": "2021-09-07T14:58:49.221Z"
   },
   {
    "duration": 46,
    "start_time": "2021-09-07T14:58:49.251Z"
   },
   {
    "duration": 815,
    "start_time": "2021-09-07T15:33:55.462Z"
   },
   {
    "duration": 26,
    "start_time": "2021-09-07T15:33:56.279Z"
   },
   {
    "duration": 15,
    "start_time": "2021-09-07T15:33:56.308Z"
   },
   {
    "duration": 16,
    "start_time": "2021-09-07T15:33:56.326Z"
   },
   {
    "duration": 38,
    "start_time": "2021-09-07T15:33:56.344Z"
   },
   {
    "duration": 8,
    "start_time": "2021-09-07T15:33:56.384Z"
   },
   {
    "duration": 15,
    "start_time": "2021-09-07T15:33:56.394Z"
   },
   {
    "duration": 6,
    "start_time": "2021-09-07T15:33:56.413Z"
   },
   {
    "duration": 8,
    "start_time": "2021-09-07T15:33:56.422Z"
   },
   {
    "duration": 157,
    "start_time": "2021-09-07T15:33:56.433Z"
   },
   {
    "duration": 12,
    "start_time": "2021-09-07T15:33:56.592Z"
   },
   {
    "duration": 5,
    "start_time": "2021-09-07T15:33:56.607Z"
   },
   {
    "duration": 9,
    "start_time": "2021-09-07T15:33:56.614Z"
   },
   {
    "duration": 4,
    "start_time": "2021-09-07T15:33:56.626Z"
   },
   {
    "duration": 8,
    "start_time": "2021-09-07T15:33:56.632Z"
   },
   {
    "duration": 43,
    "start_time": "2021-09-07T15:33:56.642Z"
   },
   {
    "duration": 13,
    "start_time": "2021-09-07T15:33:56.687Z"
   },
   {
    "duration": 6,
    "start_time": "2021-09-07T15:33:56.702Z"
   },
   {
    "duration": 29,
    "start_time": "2021-09-07T15:33:56.710Z"
   },
   {
    "duration": 51,
    "start_time": "2021-09-07T15:33:56.742Z"
   },
   {
    "duration": 21,
    "start_time": "2021-09-07T15:33:56.795Z"
   },
   {
    "duration": 3,
    "start_time": "2021-09-07T15:33:56.819Z"
   },
   {
    "duration": 12,
    "start_time": "2021-09-07T15:33:56.826Z"
   },
   {
    "duration": 46,
    "start_time": "2021-09-07T15:33:56.841Z"
   },
   {
    "duration": 19,
    "start_time": "2021-09-07T15:33:56.889Z"
   },
   {
    "duration": 7,
    "start_time": "2021-09-07T15:33:56.910Z"
   },
   {
    "duration": 10,
    "start_time": "2021-09-07T15:33:56.919Z"
   },
   {
    "duration": 7,
    "start_time": "2021-09-07T15:33:56.931Z"
   },
   {
    "duration": 7,
    "start_time": "2021-09-07T15:33:56.940Z"
   },
   {
    "duration": 22,
    "start_time": "2021-09-07T15:33:56.983Z"
   },
   {
    "duration": 17,
    "start_time": "2021-09-07T15:33:57.007Z"
   },
   {
    "duration": 5,
    "start_time": "2021-09-07T15:33:57.026Z"
   },
   {
    "duration": 21,
    "start_time": "2021-09-07T15:33:57.033Z"
   },
   {
    "duration": 31,
    "start_time": "2021-09-07T15:33:57.056Z"
   },
   {
    "duration": 963,
    "start_time": "2021-09-07T15:33:57.088Z"
   },
   {
    "duration": 40,
    "start_time": "2021-09-07T15:33:58.054Z"
   },
   {
    "duration": 20,
    "start_time": "2021-09-07T15:33:58.097Z"
   },
   {
    "duration": 19,
    "start_time": "2021-09-07T15:33:58.119Z"
   },
   {
    "duration": 761,
    "start_time": "2021-09-07T15:34:18.386Z"
   },
   {
    "duration": 27,
    "start_time": "2021-09-07T15:34:19.150Z"
   },
   {
    "duration": 14,
    "start_time": "2021-09-07T15:34:19.180Z"
   },
   {
    "duration": 18,
    "start_time": "2021-09-07T15:34:19.197Z"
   },
   {
    "duration": 8,
    "start_time": "2021-09-07T15:34:19.217Z"
   },
   {
    "duration": 12,
    "start_time": "2021-09-07T15:34:19.228Z"
   },
   {
    "duration": 16,
    "start_time": "2021-09-07T15:34:19.284Z"
   },
   {
    "duration": 9,
    "start_time": "2021-09-07T15:34:19.305Z"
   },
   {
    "duration": 18,
    "start_time": "2021-09-07T15:34:19.316Z"
   },
   {
    "duration": 142,
    "start_time": "2021-09-07T15:34:19.336Z"
   },
   {
    "duration": 13,
    "start_time": "2021-09-07T15:34:19.481Z"
   },
   {
    "duration": 13,
    "start_time": "2021-09-07T15:34:19.496Z"
   },
   {
    "duration": 15,
    "start_time": "2021-09-07T15:34:19.512Z"
   },
   {
    "duration": 5,
    "start_time": "2021-09-07T15:34:19.530Z"
   },
   {
    "duration": 9,
    "start_time": "2021-09-07T15:34:19.537Z"
   },
   {
    "duration": 12,
    "start_time": "2021-09-07T15:34:19.548Z"
   },
   {
    "duration": 28,
    "start_time": "2021-09-07T15:34:19.562Z"
   },
   {
    "duration": 7,
    "start_time": "2021-09-07T15:34:19.593Z"
   },
   {
    "duration": 34,
    "start_time": "2021-09-07T15:34:19.602Z"
   },
   {
    "duration": 49,
    "start_time": "2021-09-07T15:34:19.639Z"
   },
   {
    "duration": 24,
    "start_time": "2021-09-07T15:34:19.690Z"
   },
   {
    "duration": 5,
    "start_time": "2021-09-07T15:34:19.716Z"
   },
   {
    "duration": 13,
    "start_time": "2021-09-07T15:34:19.725Z"
   },
   {
    "duration": 8,
    "start_time": "2021-09-07T15:34:19.741Z"
   },
   {
    "duration": 18,
    "start_time": "2021-09-07T15:34:19.783Z"
   },
   {
    "duration": 6,
    "start_time": "2021-09-07T15:34:19.804Z"
   },
   {
    "duration": 16,
    "start_time": "2021-09-07T15:34:19.813Z"
   },
   {
    "duration": 12,
    "start_time": "2021-09-07T15:34:19.831Z"
   },
   {
    "duration": 24,
    "start_time": "2021-09-07T15:34:19.845Z"
   },
   {
    "duration": 53,
    "start_time": "2021-09-07T15:34:19.872Z"
   },
   {
    "duration": 10,
    "start_time": "2021-09-07T15:34:19.928Z"
   },
   {
    "duration": 28,
    "start_time": "2021-09-07T15:34:19.940Z"
   },
   {
    "duration": 27,
    "start_time": "2021-09-07T15:34:19.970Z"
   },
   {
    "duration": 25,
    "start_time": "2021-09-07T15:34:20.000Z"
   },
   {
    "duration": 929,
    "start_time": "2021-09-07T15:34:20.028Z"
   },
   {
    "duration": 34,
    "start_time": "2021-09-07T15:34:20.960Z"
   },
   {
    "duration": 18,
    "start_time": "2021-09-07T15:34:20.996Z"
   },
   {
    "duration": 17,
    "start_time": "2021-09-07T15:34:21.017Z"
   },
   {
    "duration": 789,
    "start_time": "2021-09-07T16:11:22.857Z"
   },
   {
    "duration": 32,
    "start_time": "2021-09-07T16:11:23.649Z"
   },
   {
    "duration": 16,
    "start_time": "2021-09-07T16:11:23.684Z"
   },
   {
    "duration": 17,
    "start_time": "2021-09-07T16:11:23.704Z"
   },
   {
    "duration": 9,
    "start_time": "2021-09-07T16:11:23.724Z"
   },
   {
    "duration": 51,
    "start_time": "2021-09-07T16:11:23.736Z"
   },
   {
    "duration": 16,
    "start_time": "2021-09-07T16:11:23.790Z"
   },
   {
    "duration": 8,
    "start_time": "2021-09-07T16:11:23.811Z"
   },
   {
    "duration": 18,
    "start_time": "2021-09-07T16:11:23.823Z"
   },
   {
    "duration": 155,
    "start_time": "2021-09-07T16:11:23.844Z"
   },
   {
    "duration": 15,
    "start_time": "2021-09-07T16:11:24.002Z"
   },
   {
    "duration": 5,
    "start_time": "2021-09-07T16:11:24.019Z"
   },
   {
    "duration": 9,
    "start_time": "2021-09-07T16:11:24.026Z"
   },
   {
    "duration": 3,
    "start_time": "2021-09-07T16:11:24.038Z"
   },
   {
    "duration": 41,
    "start_time": "2021-09-07T16:11:24.043Z"
   },
   {
    "duration": 7,
    "start_time": "2021-09-07T16:11:24.086Z"
   },
   {
    "duration": 15,
    "start_time": "2021-09-07T16:11:24.096Z"
   },
   {
    "duration": 6,
    "start_time": "2021-09-07T16:11:24.113Z"
   },
   {
    "duration": 32,
    "start_time": "2021-09-07T16:11:24.121Z"
   },
   {
    "duration": 21,
    "start_time": "2021-09-07T16:11:24.182Z"
   },
   {
    "duration": 21,
    "start_time": "2021-09-07T16:11:24.206Z"
   },
   {
    "duration": 3,
    "start_time": "2021-09-07T16:11:24.230Z"
   },
   {
    "duration": 12,
    "start_time": "2021-09-07T16:11:24.238Z"
   },
   {
    "duration": 9,
    "start_time": "2021-09-07T16:11:24.283Z"
   },
   {
    "duration": 20,
    "start_time": "2021-09-07T16:11:24.296Z"
   },
   {
    "duration": 7,
    "start_time": "2021-09-07T16:11:24.319Z"
   },
   {
    "duration": 11,
    "start_time": "2021-09-07T16:11:24.328Z"
   },
   {
    "duration": 43,
    "start_time": "2021-09-07T16:11:24.341Z"
   },
   {
    "duration": 7,
    "start_time": "2021-09-07T16:11:24.386Z"
   },
   {
    "duration": 25,
    "start_time": "2021-09-07T16:11:24.396Z"
   },
   {
    "duration": 9,
    "start_time": "2021-09-07T16:11:24.423Z"
   },
   {
    "duration": 4,
    "start_time": "2021-09-07T16:11:24.435Z"
   },
   {
    "duration": 54,
    "start_time": "2021-09-07T16:11:24.442Z"
   },
   {
    "duration": 11,
    "start_time": "2021-09-07T16:11:24.498Z"
   },
   {
    "duration": 1089,
    "start_time": "2021-09-07T16:11:24.512Z"
   },
   {
    "duration": 23,
    "start_time": "2021-09-07T16:11:25.603Z"
   },
   {
    "duration": 18,
    "start_time": "2021-09-07T16:11:25.628Z"
   },
   {
    "duration": 44,
    "start_time": "2021-09-07T16:11:25.648Z"
   },
   {
    "duration": 771,
    "start_time": "2021-09-09T01:03:00.058Z"
   },
   {
    "duration": 376,
    "start_time": "2021-09-09T01:05:55.984Z"
   },
   {
    "duration": 331,
    "start_time": "2021-09-09T01:06:21.381Z"
   },
   {
    "duration": 367,
    "start_time": "2021-09-09T01:07:20.237Z"
   },
   {
    "duration": 388,
    "start_time": "2021-09-09T01:07:27.358Z"
   },
   {
    "duration": 340,
    "start_time": "2021-09-09T01:07:40.826Z"
   },
   {
    "duration": 646,
    "start_time": "2021-09-09T01:14:02.226Z"
   },
   {
    "duration": 19,
    "start_time": "2021-09-09T01:14:12.974Z"
   },
   {
    "duration": 219,
    "start_time": "2021-09-13T01:40:07.750Z"
   },
   {
    "duration": 164,
    "start_time": "2021-09-13T01:40:15.986Z"
   },
   {
    "duration": 598,
    "start_time": "2021-09-13T01:40:47.589Z"
   },
   {
    "duration": 18,
    "start_time": "2021-09-13T01:40:55.109Z"
   },
   {
    "duration": 11,
    "start_time": "2021-09-13T01:41:02.589Z"
   },
   {
    "duration": 6,
    "start_time": "2021-09-13T01:41:11.220Z"
   },
   {
    "duration": 7,
    "start_time": "2021-09-13T01:41:14.418Z"
   },
   {
    "duration": 11,
    "start_time": "2021-09-13T01:41:28.348Z"
   },
   {
    "duration": 5,
    "start_time": "2021-09-13T01:41:37.440Z"
   },
   {
    "duration": 7,
    "start_time": "2021-09-13T01:41:41.468Z"
   },
   {
    "duration": 74,
    "start_time": "2021-09-13T01:41:47.789Z"
   },
   {
    "duration": 72,
    "start_time": "2021-09-13T01:41:51.099Z"
   },
   {
    "duration": 10,
    "start_time": "2021-09-13T01:41:53.147Z"
   },
   {
    "duration": 3,
    "start_time": "2021-09-13T01:41:58.819Z"
   },
   {
    "duration": 6,
    "start_time": "2021-09-13T01:42:02.357Z"
   },
   {
    "duration": 4,
    "start_time": "2021-09-13T01:42:10.169Z"
   },
   {
    "duration": 5,
    "start_time": "2021-09-13T01:42:13.819Z"
   },
   {
    "duration": 5,
    "start_time": "2021-09-13T01:42:16.240Z"
   },
   {
    "duration": 8,
    "start_time": "2021-09-13T01:42:33.738Z"
   },
   {
    "duration": 5,
    "start_time": "2021-09-13T01:42:40.935Z"
   },
   {
    "duration": 19,
    "start_time": "2021-09-13T01:42:44.325Z"
   },
   {
    "duration": 15,
    "start_time": "2021-09-13T01:42:51.218Z"
   },
   {
    "duration": 17,
    "start_time": "2021-09-13T01:42:54.919Z"
   },
   {
    "duration": 17,
    "start_time": "2021-09-13T01:43:02.460Z"
   },
   {
    "duration": 2,
    "start_time": "2021-09-13T01:43:23.271Z"
   },
   {
    "duration": 7,
    "start_time": "2021-09-13T01:43:25.490Z"
   },
   {
    "duration": 7,
    "start_time": "2021-09-13T01:43:25.920Z"
   },
   {
    "duration": 14,
    "start_time": "2021-09-13T01:43:26.571Z"
   },
   {
    "duration": 5,
    "start_time": "2021-09-13T01:43:27.121Z"
   },
   {
    "duration": 6,
    "start_time": "2021-09-13T01:43:28.138Z"
   },
   {
    "duration": 3,
    "start_time": "2021-09-13T01:43:29.048Z"
   },
   {
    "duration": 4,
    "start_time": "2021-09-13T01:43:29.727Z"
   },
   {
    "duration": 15,
    "start_time": "2021-09-13T01:43:31.451Z"
   },
   {
    "duration": 7,
    "start_time": "2021-09-13T01:43:32.231Z"
   },
   {
    "duration": 3,
    "start_time": "2021-09-13T01:43:33.065Z"
   },
   {
    "duration": 12,
    "start_time": "2021-09-13T01:43:34.689Z"
   },
   {
    "duration": 7,
    "start_time": "2021-09-13T01:43:35.270Z"
   },
   {
    "duration": 349,
    "start_time": "2021-09-13T01:43:39.588Z"
   },
   {
    "duration": 17,
    "start_time": "2021-09-13T01:43:42.323Z"
   },
   {
    "duration": 13,
    "start_time": "2021-09-13T01:43:45.087Z"
   },
   {
    "duration": 210,
    "start_time": "2021-09-13T01:52:03.030Z"
   },
   {
    "duration": 765,
    "start_time": "2021-09-14T04:03:11.989Z"
   },
   {
    "duration": 27,
    "start_time": "2021-09-14T04:03:12.757Z"
   },
   {
    "duration": 18,
    "start_time": "2021-09-14T04:03:12.787Z"
   },
   {
    "duration": 16,
    "start_time": "2021-09-14T04:03:12.808Z"
   },
   {
    "duration": 8,
    "start_time": "2021-09-14T04:03:12.856Z"
   },
   {
    "duration": 19,
    "start_time": "2021-09-14T04:03:12.866Z"
   },
   {
    "duration": 23,
    "start_time": "2021-09-14T04:03:12.888Z"
   },
   {
    "duration": 7,
    "start_time": "2021-09-14T04:03:12.915Z"
   },
   {
    "duration": 34,
    "start_time": "2021-09-14T04:03:12.925Z"
   },
   {
    "duration": 138,
    "start_time": "2021-09-14T04:03:12.961Z"
   },
   {
    "duration": 13,
    "start_time": "2021-09-14T04:03:13.102Z"
   },
   {
    "duration": 7,
    "start_time": "2021-09-14T04:03:13.117Z"
   },
   {
    "duration": 30,
    "start_time": "2021-09-14T04:03:13.126Z"
   },
   {
    "duration": 4,
    "start_time": "2021-09-14T04:03:13.158Z"
   },
   {
    "duration": 8,
    "start_time": "2021-09-14T04:03:13.165Z"
   },
   {
    "duration": 8,
    "start_time": "2021-09-14T04:03:13.176Z"
   },
   {
    "duration": 22,
    "start_time": "2021-09-14T04:03:13.186Z"
   },
   {
    "duration": 6,
    "start_time": "2021-09-14T04:03:13.210Z"
   },
   {
    "duration": 60,
    "start_time": "2021-09-14T04:03:13.219Z"
   },
   {
    "duration": 22,
    "start_time": "2021-09-14T04:03:13.281Z"
   },
   {
    "duration": 23,
    "start_time": "2021-09-14T04:03:13.305Z"
   },
   {
    "duration": 3,
    "start_time": "2021-09-14T04:03:13.354Z"
   },
   {
    "duration": 30,
    "start_time": "2021-09-14T04:03:13.362Z"
   },
   {
    "duration": 9,
    "start_time": "2021-09-14T04:03:13.396Z"
   },
   {
    "duration": 23,
    "start_time": "2021-09-14T04:03:13.407Z"
   },
   {
    "duration": 23,
    "start_time": "2021-09-14T04:03:13.432Z"
   },
   {
    "duration": 7,
    "start_time": "2021-09-14T04:03:13.457Z"
   },
   {
    "duration": 8,
    "start_time": "2021-09-14T04:03:13.467Z"
   },
   {
    "duration": 7,
    "start_time": "2021-09-14T04:03:13.478Z"
   },
   {
    "duration": 25,
    "start_time": "2021-09-14T04:03:13.487Z"
   },
   {
    "duration": 39,
    "start_time": "2021-09-14T04:03:13.515Z"
   },
   {
    "duration": 5,
    "start_time": "2021-09-14T04:03:13.556Z"
   },
   {
    "duration": 30,
    "start_time": "2021-09-14T04:03:13.563Z"
   },
   {
    "duration": 25,
    "start_time": "2021-09-14T04:03:13.595Z"
   },
   {
    "duration": 898,
    "start_time": "2021-09-14T04:03:13.622Z"
   },
   {
    "duration": 33,
    "start_time": "2021-09-14T04:03:14.523Z"
   },
   {
    "duration": 20,
    "start_time": "2021-09-14T04:03:14.559Z"
   },
   {
    "duration": 25,
    "start_time": "2021-09-14T04:03:14.581Z"
   },
   {
    "duration": 808,
    "start_time": "2021-09-14T10:47:30.637Z"
   },
   {
    "duration": 27,
    "start_time": "2021-09-14T10:47:31.448Z"
   },
   {
    "duration": 16,
    "start_time": "2021-09-14T10:47:31.477Z"
   },
   {
    "duration": 31,
    "start_time": "2021-09-14T10:47:31.495Z"
   },
   {
    "duration": 7,
    "start_time": "2021-09-14T10:47:31.529Z"
   },
   {
    "duration": 14,
    "start_time": "2021-09-14T10:47:31.537Z"
   },
   {
    "duration": 40,
    "start_time": "2021-09-14T10:47:31.553Z"
   },
   {
    "duration": 8,
    "start_time": "2021-09-14T10:47:31.597Z"
   },
   {
    "duration": 47,
    "start_time": "2021-09-14T10:47:31.608Z"
   },
   {
    "duration": 122,
    "start_time": "2021-09-14T10:47:31.658Z"
   },
   {
    "duration": 17,
    "start_time": "2021-09-14T10:47:31.783Z"
   },
   {
    "duration": 6,
    "start_time": "2021-09-14T10:47:31.803Z"
   },
   {
    "duration": 23,
    "start_time": "2021-09-14T10:47:31.811Z"
   },
   {
    "duration": 20,
    "start_time": "2021-09-14T10:47:31.837Z"
   },
   {
    "duration": 35,
    "start_time": "2021-09-14T10:47:31.859Z"
   },
   {
    "duration": 31,
    "start_time": "2021-09-14T10:47:31.896Z"
   },
   {
    "duration": 29,
    "start_time": "2021-09-14T10:47:31.929Z"
   },
   {
    "duration": 27,
    "start_time": "2021-09-14T10:47:31.960Z"
   },
   {
    "duration": 51,
    "start_time": "2021-09-14T10:47:31.989Z"
   },
   {
    "duration": 20,
    "start_time": "2021-09-14T10:47:32.042Z"
   },
   {
    "duration": 26,
    "start_time": "2021-09-14T10:47:32.064Z"
   },
   {
    "duration": 6,
    "start_time": "2021-09-14T10:47:32.092Z"
   },
   {
    "duration": 28,
    "start_time": "2021-09-14T10:47:32.103Z"
   },
   {
    "duration": 14,
    "start_time": "2021-09-14T10:47:32.134Z"
   },
   {
    "duration": 20,
    "start_time": "2021-09-14T10:47:32.151Z"
   },
   {
    "duration": 6,
    "start_time": "2021-09-14T10:47:32.182Z"
   },
   {
    "duration": 15,
    "start_time": "2021-09-14T10:47:32.190Z"
   },
   {
    "duration": 10,
    "start_time": "2021-09-14T10:47:32.207Z"
   },
   {
    "duration": 24,
    "start_time": "2021-09-14T10:47:32.219Z"
   },
   {
    "duration": 46,
    "start_time": "2021-09-14T10:47:32.245Z"
   },
   {
    "duration": 27,
    "start_time": "2021-09-14T10:47:32.294Z"
   },
   {
    "duration": 23,
    "start_time": "2021-09-14T10:47:32.323Z"
   },
   {
    "duration": 25,
    "start_time": "2021-09-14T10:47:32.348Z"
   },
   {
    "duration": 25,
    "start_time": "2021-09-14T10:47:32.375Z"
   },
   {
    "duration": 870,
    "start_time": "2021-09-14T10:47:32.403Z"
   },
   {
    "duration": 22,
    "start_time": "2021-09-14T10:47:33.276Z"
   },
   {
    "duration": 18,
    "start_time": "2021-09-14T10:47:33.301Z"
   },
   {
    "duration": 22,
    "start_time": "2021-09-14T10:47:33.322Z"
   }
  ],
  "kernelspec": {
   "display_name": "Python 3",
   "language": "python",
   "name": "python3"
  },
  "language_info": {
   "codemirror_mode": {
    "name": "ipython",
    "version": 3
   },
   "file_extension": ".py",
   "mimetype": "text/x-python",
   "name": "python",
   "nbconvert_exporter": "python",
   "pygments_lexer": "ipython3",
   "version": "3.7.8"
  },
  "toc": {
   "base_numbering": 1,
   "nav_menu": {},
   "number_sections": true,
   "sideBar": true,
   "skip_h1_title": true,
   "title_cell": "Table of Contents",
   "title_sidebar": "Contents",
   "toc_cell": false,
   "toc_position": {},
   "toc_section_display": true,
   "toc_window_display": false
  }
 },
 "nbformat": 4,
 "nbformat_minor": 2
}
